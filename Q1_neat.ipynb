{
 "cells": [
  {
   "cell_type": "code",
   "execution_count": 1,
   "metadata": {},
   "outputs": [],
   "source": [
    "#Import libraries for plotting, sampling\n",
    "import numpy as np\n",
    "import matplotlib.pyplot as plt"
   ]
  },
  {
   "cell_type": "markdown",
   "metadata": {},
   "source": [
    "## Binance Take Home Test - Question 1\n",
    "\n",
    "*Detection of fake commodity: There are a total of 100,000 pairs of shoes of a well-known brand on an e-commerce platform.\n",
    "The official guide price of these shoes is $48 ~ $68. Now we randomly sample 1,000 pairs from them for inspection, where 100 pairs of shoes with quality or counterfeit problems are found. The price distribution of the 100 pairs of counterfeit shoes is mainly concentrated on two price points, with 60 pairs for $30 and 40 pairs for $50. Please give the price point at which you can most likely buy qualified shoes at the lowest price. Prerequisite judgments can be made based on personal understanding of real life.*\n",
    "<br/><br/>\n",
    "\n",
    "It is given in the problem statement that the price distribution of real and fake shoes differs. By inferring how likely it is that an observed price has been drawn from a particular one of these distributions, it is possible to calculate the probability that the advertised pair of shoes is real. Let the variable $Z$ indicate whether a particular pair of shoes is real or fake: <br/>\n",
    "\n",
    "$$\n",
    "Z = \n",
    "     \\begin{cases}\n",
    "     1 &\\quad\\text{Real}\\\\\n",
    "     0 &\\quad\\text{Fake}\n",
    "     \\end{cases}\n",
    "$$\n",
    "\n",
    "\n",
    "<br/><br/>\n",
    "This variable cannot be observed directly - the aim is to therefore to infer the probability that the latent variable $Z=1$, given/conditioned on a the observed price $x$:\n",
    "\n",
    "$$\n",
    "p(Z=1|x)\n",
    "$$\n",
    "\n",
    "which can be rewritten in terms of the conditional distribution of $x$, and the marginal distribution of $Z$ - distributions that can be estimated from the observations in the problem statement - using Bayes' rule:\n",
    "\n",
    "$$\n",
    "\\begin{aligned}\n",
    "p(Z=1|x) &= \\frac{p(x|Z=1)p(Z=1)}{p(x)}\\\\ \\\\\n",
    "         &= \\frac{p(x|Z=1)p(Z=1)}{\\sum_{z\\in\\{0,1\\}}p(x|Z=z)p(Z=z)}\n",
    "\\end{aligned}\n",
    "$$\n",
    "\n",
    "<br/>\n",
    "---\n",
    "\n",
    "#### **Marginal distribution of Z (real/fake)**\n",
    "\n",
    "It was observed in the problem statement that, for a sample size of 1000 shoes, 100 shoes were counterfeit or of poor quality. Assuming that the sampling was unbiased, I adopt the following marginal distribution for Z:\n",
    "\n",
    "$$\n",
    "p(Z=z) =\n",
    "     \\begin{cases}\n",
    "     0.9 &\\quad z=1\\\\\n",
    "     0.1 &\\quad z=0\n",
    "     \\end{cases}\n",
    "$$\n",
    "---\n",
    "\n",
    "#### **Conditional price distributions**\n",
    "\n",
    "I will assume that the conditional price distributions - the price distribution given that a pair of shoes is either real or fake - are Gaussian (or a mixture with Gaussian components). In addition to being common in real life, sampling from a Gaussian distribution is easily facilitated in python. $\\mathcal{N}(\\mu,\\sigma^2)$ denotes a Gaussian/normal distribution with mean $\\mu$ and standard deviation $\\sigma^2$.\n",
    "\n",
    "##### **Real shoes**\n",
    "I will take the guide price of the shoes (\\$48 ~ \\$68) to correspond to the $\\pm 2\\sigma$ range, with the mean in the centre (\\$58), so that ~95\\% of real shoe prices lie in this range. The real distribution cannot feasibly be Gaussian, assuming shoe prices cannot be negative - but this should be a good approximation in the feasible price range, given the mean is ~12 $\\sigma$ above the \\$0 point.\n",
    "\n",
    "$$\n",
    "X|Z=1 \\sim \\mathcal{N}(58, 5^2)\n",
    "$$\n",
    "\n",
    "##### **Fake shoes**\n",
    "For the price distribution of fake shoes, I assume a Gaussian mixture distribution with component means at the two observed price points of $30 and $50. It is unrealistic to assume all fake shoes are given these prices exactly - otherwise it would be straightforward to avoid fake shoes, by simply buying at any other price point. I will therefore assume an equal standard deviation for each component, with the same value as the standard deviation for real shoe price. The components are weighted according the quantities observed around each price point - 60 pairs at $30 and 40 pairs at $50.\n",
    "\n",
    "$$\n",
    "X|Z=0 \\sim 0.6\\mathcal{N}(30, 5^2) + 0.4\\mathcal{N}(50, 5^2)\n",
    "$$\n",
    "\n",
    "Both conditional price distributions are plotted below."
   ]
  },
  {
   "cell_type": "code",
   "execution_count": 4,
   "metadata": {},
   "outputs": [],
   "source": [
    "#Functions to evaluate normal distribution pdfs\n",
    "def _standard_normal_pdf(z: float) -> float:\n",
    "    \"\"\"\n",
    "    Evaluates the standard normal distribution at z\n",
    "    (i.e mean 0, std 1)\n",
    "    \"\"\"\n",
    "    return 1/np.sqrt(2*np.pi) * np.exp(-z**2/2)\n",
    "\n",
    "def normal_pdf(x: float, mu: float, sigma:float) -> float:\n",
    "    \"\"\"\n",
    "    Evaluates a normal distribution with specified mean and\n",
    "    standard deviation at x\n",
    "    \"\"\"\n",
    "    if sigma < 0:\n",
    "        raise ValueError(\"Standard deviation must be > 0\")\n",
    "    \n",
    "    return 1/sigma * _standard_normal_pdf((x-mu)/sigma)"
   ]
  },
  {
   "cell_type": "code",
   "execution_count": 8,
   "metadata": {},
   "outputs": [],
   "source": [
    "#Functions to evaluate conditional pdfs\n",
    "def real_conditional_pdf(x: float) -> float:\n",
    "    \"\"\"\n",
    "    Evaluates the conditional pdf for real shoes at price x\n",
    "    \"\"\"\n",
    "    return normal_pdf(x, 58, 5)\n",
    "\n",
    "def fake_conditional_pdf(x:float, sigma:float=5):\n",
    "    \"\"\"\n",
    "    Evaluates conditional pdf for fake shoes at price x, two component gaussians\n",
    "    \"\"\"\n",
    "    return 0.6*normal_pdf(x, 30, sigma) + 0.4*normal_pdf(x, 50, sigma)"
   ]
  },
  {
   "cell_type": "code",
   "execution_count": 5,
   "metadata": {},
   "outputs": [],
   "source": [
    "x_samples = np.linspace(10, 100, 1000)\n",
    "\n",
    "pdf_real = "
   ]
  },
  {
   "cell_type": "code",
   "execution_count": null,
   "metadata": {},
   "outputs": [],
   "source": []
  }
 ],
 "metadata": {
  "kernelspec": {
   "display_name": "Python 3.7.0 ('binance-oa')",
   "language": "python",
   "name": "python3"
  },
  "language_info": {
   "codemirror_mode": {
    "name": "ipython",
    "version": 3
   },
   "file_extension": ".py",
   "mimetype": "text/x-python",
   "name": "python",
   "nbconvert_exporter": "python",
   "pygments_lexer": "ipython3",
   "version": "3.7.0"
  },
  "orig_nbformat": 4,
  "vscode": {
   "interpreter": {
    "hash": "85dbee6e4ca57acd8671a055a5d1e9cf9cae7a858815662619d59c0b4887d5b8"
   }
  }
 },
 "nbformat": 4,
 "nbformat_minor": 2
}
